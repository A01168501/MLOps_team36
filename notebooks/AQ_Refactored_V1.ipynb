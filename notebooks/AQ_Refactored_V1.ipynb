{
 "cells": [
  {
   "cell_type": "markdown",
   "metadata": {},
   "source": [
    "# Setup"
   ]
  },
  {
   "cell_type": "code",
   "execution_count": 5,
   "metadata": {},
   "outputs": [],
   "source": [
    "import pandas as pd\n",
    "import numpy as np\n",
    "import matplotlib.pyplot as plt\n",
    "import seaborn as sns\n",
    "from sklearn.pipeline import Pipeline\n",
    "from sklearn.preprocessing import MinMaxScaler\n",
    "from sklearn.linear_model import LinearRegression\n",
    "from sklearn.model_selection import train_test_split\n",
    "from sklearn.metrics import mean_squared_error, r2_score\n",
    "from sklearn.preprocessing import PolynomialFeatures\n",
    "\n"
   ]
  },
  {
   "cell_type": "markdown",
   "metadata": {},
   "source": [
    "# Creating the classes"
   ]
  },
  {
   "cell_type": "markdown",
   "metadata": {},
   "source": [
    "## Data Explorer"
   ]
  },
  {
   "cell_type": "code",
   "execution_count": 6,
   "metadata": {},
   "outputs": [],
   "source": [
    "class DataExplorer:\n",
    "    @staticmethod\n",
    "    def explore_data(data):\n",
    "        print(data.head().T)\n",
    "        print(data.describe())\n",
    "        print(data.info())\n",
    "    \n",
    "    @staticmethod\n",
    "    def plot_histograms(data):\n",
    "        data.hist(bins=15, figsize=(15, 10))\n",
    "        plt.show()\n",
    "\n",
    "    @staticmethod\n",
    "    def plot_corr_matrix(data,columns):\n",
    "        data = data[columns]\n",
    "        plt.figure(figsize=(10,5))\n",
    "        sns.heatmap(data.corr(),annot=True, fmt=\".2f\",cmap= 'RdBu' )\n",
    "        plt.show()\n",
    "    \n",
    "    @staticmethod\n",
    "    def percentage_of_missing_values(data):\n",
    "        per_miss_val = (data.isna().sum()/len(data))*100\n",
    "        format_value = per_miss_val.apply(lambda x: f'{x:.2f}%')\n",
    "        print(\"Percentage  of missing values\")\n",
    "        print(format_value)\n"
   ]
  },
  {
   "cell_type": "markdown",
   "metadata": {},
   "source": [
    "Based on the information provided by the dataset creator, the samples which have missing values were registered as \"-200\", so we are going to input again an NaN to the samples that fall into this category\n"
   ]
  },
  {
   "cell_type": "markdown",
   "metadata": {},
   "source": [
    "# AQ (Air Quality) Model"
   ]
  },
  {
   "cell_type": "code",
   "execution_count": 13,
   "metadata": {},
   "outputs": [],
   "source": [
    "class AQModel:\n",
    "    def __init__(self, filepath):\n",
    "        self.filepath = filepath\n",
    "        self.model_pipeline = Pipeline([\n",
    "            ('scaler',MinMaxScaler()),\n",
    "            ('polynomial',PolynomialFeatures(degree=2,include_bias =  False)),\n",
    "            ('regression',LinearRegression())\n",
    "        ])\n",
    "        self.X_train, self.X_test, self.y_train, self.y_test = [None] * 4\n",
    "    \n",
    "    def load_data(self):\n",
    "        self.data = pd.read_csv(self.filepath)\n",
    "        DataExplorer.explore_data(self.data)\n",
    "        return self\n",
    "    \n",
    "    def preprocess_data(self):\n",
    "        self.data = self.data.drop(columns=[\"Date\", \"Time\", \"NMHC(GT)\", \"Unnamed: 15\",\"Unnamed: 16\"])\n",
    "        self.data = self.data.applymap(lambda x: np.nan if x == -200 else x)\n",
    "        self.data = self.data.dropna(subset=[\"CO(GT)\"])\n",
    "        self.data = self.data.apply(lambda col: col.fillna(col.mean()))\n",
    "\n",
    "        X = self.data.drop(\"CO(GT)\", axis=1)\n",
    "        y = self.data[\"CO(GT)\"]\n",
    "        self.X_train, self.X_test, self.y_train, self.y_test = train_test_split(X, y, test_size=0.2, random_state=27)\n",
    "        return self\n",
    "\n",
    "    def train_model(self):\n",
    "        self.model_pipeline.fit(self.X_train, self.y_train)\n",
    "        return self\n",
    "    \n",
    "    def evaluate_model(self):\n",
    "        print(\"Model Evaluation:\")\n",
    "        y_pre = self.model_pipeline.predict(self.X_test)\n",
    "        rmse = mean_squared_error(self.y_test, y_pre,squared=False)\n",
    "        r2 = r2_score(self.y_test, y_pre)\n",
    "\n",
    "        print(f'RMSE: {rmse:.4f}')\n",
    "        print(f'R²: {r2:.4f}')\n",
    "        return self"
   ]
  },
  {
   "cell_type": "code",
   "execution_count": 17,
   "metadata": {},
   "outputs": [
    {
     "name": "stdout",
     "output_type": "stream",
     "text": [
      "                       0          1          2          3          4\n",
      "Date           3/10/2004  3/10/2004  3/10/2004  3/10/2004  3/10/2004\n",
      "Time            18:00:00   19:00:00   20:00:00   21:00:00   22:00:00\n",
      "CO(GT)               2.6        2.0        2.2        2.2        1.6\n",
      "PT08.S1(CO)       1360.0     1292.0     1402.0     1376.0     1272.0\n",
      "NMHC(GT)           150.0      112.0       88.0       80.0       51.0\n",
      "C6H6(GT)            11.9        9.4        9.0        9.2        6.5\n",
      "PT08.S2(NMHC)     1046.0      955.0      939.0      948.0      836.0\n",
      "NOx(GT)            166.0      103.0      131.0      172.0      131.0\n",
      "PT08.S3(NOx)      1056.0     1174.0     1140.0     1092.0     1205.0\n",
      "NO2(GT)            113.0       92.0      114.0      122.0      116.0\n",
      "PT08.S4(NO2)      1692.0     1559.0     1555.0     1584.0     1490.0\n",
      "PT08.S5(O3)       1268.0      972.0     1074.0     1203.0     1110.0\n",
      "T                   13.6       13.3       11.9       11.0       11.2\n",
      "RH                  48.9       47.7       54.0       60.0       59.6\n",
      "AH                0.7578     0.7255     0.7502     0.7867     0.7888\n",
      "Unnamed: 15          NaN        NaN        NaN        NaN        NaN\n",
      "Unnamed: 16          NaN        NaN        NaN        NaN        NaN\n",
      "            CO(GT)  PT08.S1(CO)     NMHC(GT)     C6H6(GT)  PT08.S2(NMHC)  \\\n",
      "count  9357.000000  9357.000000  9357.000000  9357.000000    9357.000000   \n",
      "mean    -34.207524  1048.990061  -159.090093     1.865683     894.595276   \n",
      "std      77.657170   329.832710   139.789093    41.380206     342.333252   \n",
      "min    -200.000000  -200.000000  -200.000000  -200.000000    -200.000000   \n",
      "25%       0.600000   921.000000  -200.000000     4.000000     711.000000   \n",
      "50%       1.500000  1053.000000  -200.000000     7.900000     895.000000   \n",
      "75%       2.600000  1221.000000  -200.000000    13.600000    1105.000000   \n",
      "max      11.900000  2040.000000  1189.000000    63.700000    2214.000000   \n",
      "\n",
      "           NOx(GT)  PT08.S3(NOx)      NO2(GT)  PT08.S4(NO2)  PT08.S5(O3)  \\\n",
      "count  9357.000000   9357.000000  9357.000000   9357.000000  9357.000000   \n",
      "mean    168.616971    794.990168    58.148873   1391.479641   975.072032   \n",
      "std     257.433866    321.993552   126.940455    467.210125   456.938184   \n",
      "min    -200.000000   -200.000000  -200.000000   -200.000000  -200.000000   \n",
      "25%      50.000000    637.000000    53.000000   1185.000000   700.000000   \n",
      "50%     141.000000    794.000000    96.000000   1446.000000   942.000000   \n",
      "75%     284.000000    960.000000   133.000000   1662.000000  1255.000000   \n",
      "max    1479.000000   2683.000000   340.000000   2775.000000  2523.000000   \n",
      "\n",
      "                 T           RH           AH  Unnamed: 15  Unnamed: 16  \n",
      "count  9357.000000  9357.000000  9357.000000          0.0          0.0  \n",
      "mean      9.778305    39.485380    -6.837604          NaN          NaN  \n",
      "std      43.203623    51.216145    38.976670          NaN          NaN  \n",
      "min    -200.000000  -200.000000  -200.000000          NaN          NaN  \n",
      "25%      10.900000    34.100000     0.692300          NaN          NaN  \n",
      "50%      17.200000    48.600000     0.976800          NaN          NaN  \n",
      "75%      24.100000    61.900000     1.296200          NaN          NaN  \n",
      "max      44.600000    88.700000     2.231000          NaN          NaN  \n",
      "<class 'pandas.core.frame.DataFrame'>\n",
      "RangeIndex: 9471 entries, 0 to 9470\n",
      "Data columns (total 17 columns):\n",
      " #   Column         Non-Null Count  Dtype  \n",
      "---  ------         --------------  -----  \n",
      " 0   Date           9357 non-null   object \n",
      " 1   Time           9357 non-null   object \n",
      " 2   CO(GT)         9357 non-null   float64\n",
      " 3   PT08.S1(CO)    9357 non-null   float64\n",
      " 4   NMHC(GT)       9357 non-null   float64\n",
      " 5   C6H6(GT)       9357 non-null   float64\n",
      " 6   PT08.S2(NMHC)  9357 non-null   float64\n",
      " 7   NOx(GT)        9357 non-null   float64\n",
      " 8   PT08.S3(NOx)   9357 non-null   float64\n",
      " 9   NO2(GT)        9357 non-null   float64\n",
      " 10  PT08.S4(NO2)   9357 non-null   float64\n",
      " 11  PT08.S5(O3)    9357 non-null   float64\n",
      " 12  T              9357 non-null   float64\n",
      " 13  RH             9357 non-null   float64\n",
      " 14  AH             9357 non-null   float64\n",
      " 15  Unnamed: 15    0 non-null      float64\n",
      " 16  Unnamed: 16    0 non-null      float64\n",
      "dtypes: float64(15), object(2)\n",
      "memory usage: 1.2+ MB\n",
      "None\n",
      "Model Evaluation:\n",
      "RMSE: 0.3976\n",
      "R²: 0.9130\n"
     ]
    },
    {
     "name": "stderr",
     "output_type": "stream",
     "text": [
      "/tmp/ipykernel_44462/4272205605.py:18: FutureWarning: DataFrame.applymap has been deprecated. Use DataFrame.map instead.\n",
      "  self.data = self.data.applymap(lambda x: np.nan if x == -200 else x)\n"
     ]
    },
    {
     "data": {
      "text/plain": [
       "<__main__.AQModel at 0x7f330dd82810>"
      ]
     },
     "execution_count": 17,
     "metadata": {},
     "output_type": "execute_result"
    }
   ],
   "source": [
    "filepath=r\"/home/alt9193/Documents/MLOps_team36/data/AirQualityUCI.csv\"\n",
    "\n",
    "model = AQModel(filepath)\n",
    "model.load_data()\n",
    "model.preprocess_data()\n",
    "model.train_model()\n",
    "model.evaluate_model()\n"
   ]
  },
  {
   "cell_type": "markdown",
   "metadata": {},
   "source": [
    "The variable to be predicted is the one called 'CO(GT)'. To avoid introducing bias into the model, we decided to remove the entries where the value of the dependent variable is unknown. \n",
    "\n",
    "Analyzing the data, we observed that the columns 'Unnamed:15' and 'Unnamed:16' contain no values, and the column 'NMHC(GT)' has more than 88 percent missing values, so we decided to eliminate these variables. \n",
    "\n",
    "Observing the correlations, the variables C6H6 (GT), PT08.S2(NMHC), and PT08.S1(CO) have the highest correlation with our target variable."
   ]
  }
 ],
 "metadata": {
  "kernelspec": {
   "display_name": "env",
   "language": "python",
   "name": "python3"
  },
  "language_info": {
   "codemirror_mode": {
    "name": "ipython",
    "version": 3
   },
   "file_extension": ".py",
   "mimetype": "text/x-python",
   "name": "python",
   "nbconvert_exporter": "python",
   "pygments_lexer": "ipython3",
   "version": "3.11.2"
  }
 },
 "nbformat": 4,
 "nbformat_minor": 2
}
